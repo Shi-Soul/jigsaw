{
 "cells": [
  {
   "cell_type": "code",
   "execution_count": 1,
   "metadata": {},
   "outputs": [
    {
     "name": "stderr",
     "output_type": "stream",
     "text": [
      "\u001b[38;5;2m[i 0521 14:01:20.143902 56 log.cc:351] Load log_sync: 1\u001b[m\n",
      "\u001b[38;5;2m[i 0521 14:01:20.270857 56 compiler.py:955] Jittor(1.3.7.15) src: /home/wjxie/.local/lib/python3.8/site-packages/jittor\u001b[m\n",
      "\u001b[38;5;2m[i 0521 14:01:20.280705 56 compiler.py:956] g++ at /usr/bin/g++(9.4.0)\u001b[m\n",
      "\u001b[38;5;2m[i 0521 14:01:20.283161 56 compiler.py:957] cache_path: /home/wjxie/.cache/jittor/jt1.3.7/g++9.4.0/py3.8.16/Linux-5.4.0-91xca/IntelRCoreTMi7xa6/default\u001b[m\n",
      "\u001b[38;5;2m[i 0521 14:01:20.307850 56 install_cuda.py:93] cuda_driver_version: [11, 5]\u001b[m\n",
      "\u001b[38;5;2m[i 0521 14:01:20.321171 56 __init__.py:411] Found /home/wjxie/.cache/jittor/jtcuda/cuda11.2_cudnn8_linux/bin/nvcc(11.2.152) at /home/wjxie/.cache/jittor/jtcuda/cuda11.2_cudnn8_linux/bin/nvcc.\u001b[m\n",
      "\u001b[38;5;2m[i 0521 14:01:20.333638 56 __init__.py:411] Found addr2line(2.34) at /usr/bin/addr2line.\u001b[m\n",
      "\u001b[38;5;2m[i 0521 14:01:20.551329 56 compiler.py:1010] cuda key:cu11.2.152_sm_61\u001b[m\n",
      "\u001b[38;5;2m[i 0521 14:01:20.837779 56 __init__.py:227] Total mem: 62.72GB, using 16 procs for compiling.\u001b[m\n",
      "\u001b[38;5;2m[i 0521 14:01:21.021723 56 jit_compiler.cc:28] Load cc_path: /usr/bin/g++\u001b[m\n",
      "\u001b[38;5;2m[i 0521 14:01:21.229875 56 init.cc:62] Found cuda archs: [61,]\u001b[m\n",
      "\u001b[38;5;2m[i 0521 14:01:23.342071 56 cuda_flags.cc:39] CUDA enabled.\u001b[m\n"
     ]
    }
   ],
   "source": [
    "## Import packets\n",
    "\n",
    "import logging\n",
    "import numpy as np\n",
    "import matplotlib.pyplot as plt\n",
    "import jittor as jt\n",
    "from jittor import nn\n",
    "from jittor import transform\n",
    "import jittor.models as models\n",
    "import jittor.optim as optim\n",
    "import jittor.nn as F\n",
    "import pygmtools as pygm\n",
    "from pygmtools.linear_solvers import sinkhorn\n",
    "import os\n",
    "import time\n",
    "import sklearn.model_selection\n",
    "\n",
    "\n",
    "pygm.BACKEND = 'jittor'\n",
    "# jt.flags.lazy_execution=0\n",
    "if jt.has_cuda:\n",
    "    jt.flags.use_cuda = 1\n",
    "\n",
    "logging.basicConfig(filename='output2.log', level=logging.INFO)\n",
    "logging.info(f\"\\n\\n----------{time.asctime()}----------\")\n",
    "\n",
    "from split import *\n",
    "from model import *\n",
    "\n",
    "from jittorsummary import summary\n"
   ]
  },
  {
   "cell_type": "code",
   "execution_count": 2,
   "metadata": {},
   "outputs": [],
   "source": [
    "## Set Config  \n",
    "\n",
    "# logging.info(f\"\\n Enable sinkhorn, Enable my_cel; Add BN layer\")\n",
    "config={\n",
    "    \"use_cuda\":jt.flags.use_cuda,\n",
    "    \"preprocess\": True,\n",
    "    \"val_ratio\": 0.05,\n",
    "    'data_dir': './cifar-10-batches-py',\n",
    "    \"save_dir\": \"./save\",\n",
    "\n",
    "    \"model\":\"realsmallcnn\",\n",
    "    \"method\":\"relate\",  # \"classic\"/\"relate\"\n",
    "    \"criterion\":\"jittor_cel\",   #\"jittor_cel\"/\"my_cel\"/ \"my_mse\"\n",
    "    \"enable_sinkhorn\":False,\n",
    "    \"n_input\": [3,16,16],   # Input  of CNN\n",
    "    \n",
    "    \"epoch\":10,\n",
    "    \"eval_epoch\":2,\n",
    "    \"batch_size\":512,\n",
    "    \"num_workers\":8,\n",
    "    \n",
    "    \"lr\":5e-8,\n",
    "    \"betas\":(0.9, 0.9),#(0.9, 0.999)\n",
    "    \"dropout\":0.1,\n",
    "\n",
    "    \"enable_scheduler\":True,\n",
    "    \"milestones\":[15, 30, 40, 60, 70, 80],\n",
    "    \"gamma\":0.3,\n",
    "\n",
    "}\n",
    "logging.info(f\"Config: {config}\")\n",
    "\n",
    "if config[\"method\"]==\"relate\":\n",
    "    assert config[\"criterion\"]==\"jittor_cel\", f\"criterion: { config['criterion'] }, method: {config['method']}\"\n"
   ]
  },
  {
   "cell_type": "code",
   "execution_count": 3,
   "metadata": {},
   "outputs": [
    {
     "name": "stdout",
     "output_type": "stream",
     "text": [
      "<class 'jittor.jittor_core.Var'>\n",
      "[47500,4,3,16,16,] [2500,4,3,16,16,] [10000,4,3,16,16,]\n"
     ]
    }
   ],
   "source": [
    "## Data Preprocess\n",
    "\n",
    "if config[\"preprocess\"]:\n",
    "    old_train_data, old_test_data = load_data(config)\n",
    "\n",
    "    def transform_old(data):\n",
    "        data = jt.array(data)\n",
    "        # data = data/255-0.5\n",
    "        return data\n",
    "\n",
    "    # old_train_data, old_test_data = transform_old(old_train_data), transform_old(old_test_data)\n",
    "\n",
    "    new_train_data = split_data(old_train_data)\n",
    "    new_test_data = split_data(old_test_data)\n",
    "    new_train_data, new_test_data = transform_old(new_train_data), transform_old(new_test_data)\n",
    "    ## save\n",
    "    jt.save(new_train_data, './data/new_train_data.pkl')\n",
    "    jt.save(new_test_data, './data/new_test_data.pkl')\n",
    "\n",
    "    # np.save('./data/old_train_data.npy', old_train_data )\n",
    "    # np.save('./data/new_train_data.npy', new_train_data)\n",
    "    # np.save('./data/old_test_data.npy', old_test_data)\n",
    "    # np.save('./data/new_test_data.npy', new_test_data)\n",
    "else:\n",
    "    ## load\n",
    "    old_train_data, old_test_data = None,None\n",
    "    new_train_data = jt.array(jt.load('./data/new_train_data.pkl'))\n",
    "    new_test_data = jt.array(jt.load('./data/new_test_data.pkl'))\n",
    "\n",
    "    # old_train_data, old_test_data = load_data(config)\n",
    "    # new_train_data = np.load('./data/new_train_data.npy')\n",
    "    # new_test_data = np.load('./data/new_test_data.npy')\n",
    "\n",
    "# new_train_data = new_train_data[:20000] ##DEBU\n",
    "# new_test_data = jt.Var(new_test_data)\n",
    "\n",
    "new_train_data = new_train_data.astype('float32')\n",
    "new_test_data = new_test_data.astype('float32')\n",
    "\n",
    "new_train_data,new_val_data = sklearn.model_selection.train_test_split(\n",
    "    new_train_data,test_size=config[\"val_ratio\"],shuffle=False)\n",
    "\n",
    "train_loader = jt.dataset.DataLoader(\n",
    "        dataset=jt.dataset.TensorDataset(new_train_data),\n",
    "        batch_size=config[\"batch_size\"],\n",
    "        shuffle=True,\n",
    "        num_workers=config[\"num_workers\"]\n",
    "        )\n",
    "val_loader = jt.dataset.DataLoader(\n",
    "        dataset=jt.dataset.TensorDataset(new_val_data),\n",
    "        batch_size=config[\"batch_size\"],\n",
    "        shuffle=False,\n",
    "        num_workers=config[\"num_workers\"]\n",
    "        )\n",
    "test_loader = jt.dataset.DataLoader(\n",
    "        dataset=jt.dataset.TensorDataset(new_test_data),\n",
    "        batch_size=config[\"batch_size\"],\n",
    "        shuffle=False,\n",
    "        num_workers=config[\"num_workers\"]\n",
    "        )\n",
    "\n",
    "print(new_train_data.__class__)\n",
    "print(new_train_data.shape, new_val_data.shape, new_test_data.shape)\n",
    "# (50000, 4, 3, 16, 16) (10000, 4, 3, 16, 16)\n",
    "# batch, patch, channel, row, col\n"
   ]
  },
  {
   "cell_type": "code",
   "execution_count": 4,
   "metadata": {},
   "outputs": [
    {
     "data": {
      "image/png": "[encoded data removed]",
      "text/plain": [
       "<Figure size 640x480 with 1 Axes>"
      ]
     },
     "metadata": {},
     "output_type": "display_data"
    },
    {
     "name": "stdout",
     "output_type": "stream",
     "text": [
      "8\n"
     ]
    },
    {
     "data": {
      "image/png": "[encoded data removed]",
      "text/plain": [
       "<Figure size 640x480 with 4 Axes>"
      ]
     },
     "metadata": {},
     "output_type": "display_data"
    }
   ],
   "source": [
    "## Show some data\n",
    "def show():\n",
    "    def de_transform(data):\n",
    "        # data = data+0.5\n",
    "        # data = data*255\n",
    "        # jt.sync_all()\n",
    "\n",
    "        return data.numpy().astype(np.uint8)\n",
    "\n",
    "    ind = np.random.randint(0,new_train_data.shape[0])\n",
    "    new_data,labels = shuffle_permutation(new_train_data[ind][None],config)\n",
    "    if old_train_data is not None:\n",
    "\n",
    "        plt.imshow( de_transform(jt.Var(old_train_data[ind])).transpose(1,2,0))\n",
    "        plt.show()\n",
    "\n",
    "    for i in range(4):\n",
    "        plt.subplot(2,2,i+1,label=f\"pos {i}\")\n",
    "        plt.gca().set_title(f\"pos {i}\")\n",
    "        # plt.legend()\n",
    "        plt.imshow(de_transform(new_data[0][i]).transpose(1,2,0))\n",
    "    print(labels[0])\n",
    "show()"
   ]
  },
  {
   "cell_type": "code",
   "execution_count": 5,
   "metadata": {},
   "outputs": [
    {
     "name": "stdout",
     "output_type": "stream",
     "text": [
      "----------------------------------------------------------------\n",
      "        Layer (type)               Output Shape         Param #\n",
      "================================================================\n",
      "              Conv-1           [-1, 32, 16, 16]             896\n",
      "        MakeModule-2           [-1, 32, 16, 16]               0\n",
      "           Dropout-3           [-1, 32, 16, 16]               0\n",
      "              Pool-4             [-1, 32, 8, 8]               0\n",
      "              Conv-5             [-1, 64, 8, 8]          18,496\n",
      "        MakeModule-6             [-1, 64, 8, 8]               0\n",
      "           Dropout-7             [-1, 64, 8, 8]               0\n",
      "              Conv-8            [-1, 128, 8, 8]          73,856\n",
      "        MakeModule-9            [-1, 128, 8, 8]               0\n",
      "          Dropout-10            [-1, 128, 8, 8]               0\n",
      "             Pool-11            [-1, 128, 4, 4]               0\n",
      "             Conv-12            [-1, 256, 4, 4]         295,168\n",
      "       MakeModule-13            [-1, 256, 4, 4]               0\n",
      "          Dropout-14            [-1, 256, 4, 4]               0\n",
      "             Conv-15            [-1, 256, 4, 4]         590,080\n",
      "       MakeModule-16            [-1, 256, 4, 4]               0\n",
      "          Dropout-17            [-1, 256, 4, 4]               0\n",
      "AdaptiveAvgPool2d-18            [-1, 256, 2, 2]               0\n",
      "           Linear-19                 [-1, 2048]       2,099,200\n",
      "       MakeModule-20                 [-1, 2048]               0\n",
      "          Dropout-21                 [-1, 2048]               0\n",
      "           Linear-22                 [-1, 1024]       2,098,176\n",
      "           Linear-23                 [-1, 8192]      33,562,624\n",
      "       MakeModule-24                 [-1, 8192]               0\n",
      "          Dropout-25                 [-1, 8192]               0\n",
      "           Linear-26                 [-1, 4096]      33,558,528\n",
      "       MakeModule-27                 [-1, 4096]               0\n",
      "          Dropout-28                 [-1, 4096]               0\n",
      "           Linear-29                   [-1, 16]          65,552\n",
      "     RealSmallCNN-30                   [-1, 16]               0\n",
      "================================================================\n",
      "Total params: 72,362,576\n",
      "Trainable params: 72,362,576\n",
      "Non-trainable params: 0\n",
      "----------------------------------------------------------------\n",
      "Input size (MB): 0.01\n",
      "Forward/backward pass size (MB): 1.03\n",
      "Params size (MB): 276.04\n",
      "Estimated Total Size (MB): 277.08\n",
      "----------------------------------------------------------------\n",
      "\n",
      "[5,4,3,16,16,]\n",
      "[5,4,4,]\n"
     ]
    },
    {
     "name": "stderr",
     "output_type": "stream",
     "text": [
      "\u001b[38;5;2m[i 0521 14:01:28.655039 56 560613846.py:24] \n",
      "=== display_memory_info ===\n",
      " total_cpu_ram: 62.72GB total_device_ram: 10.91GB\n",
      " hold_vars: 67 lived_vars: 86 lived_ops: 18\n",
      " name: sfrl is_device: 1 used: 1.496GB(91.1%) unused: 150.1MB(8.92%) total: 1.643GB\n",
      " name: sfrl is_device: 1 used:     0 B(0%) unused:   179MB(100%) total:   179MB\n",
      " name: sfrl is_device: 0 used:     0 B(0%) unused:   179MB(100%) total:   179MB\n",
      " name: sfrl is_device: 0 used:   512 B(0.000273%) unused:   179MB(100%) total:   179MB\n",
      " name: temp is_device: 0 used:     0 B(-nan%) unused:     0 B(-nan%) total:     0 B\n",
      " name: temp is_device: 1 used:     0 B(0%) unused: 319.8MB(100%) total: 319.8MB\n",
      " cpu&gpu: 2.479GB gpu:  2.13GB cpu:   358MB\n",
      " free: cpu(3.167GB) gpu(8.435GB)\n",
      " swap: total(    0 B) last(    0 B)\n",
      "===========================\n",
      "\u001b[m\n"
     ]
    },
    {
     "name": "stdout",
     "output_type": "stream",
     "text": [
      "[5,4,4,]\n",
      "[5,4,]\n",
      "1.3946195840835571\n",
      "<class 'jittor.jittor_core.Var'>\n",
      "(5, 4) [[1 3 0 2]\n",
      " [1 3 0 2]\n",
      " [1 3 0 2]\n",
      " [1 3 0 2]\n",
      " [1 3 0 2]]\n"
     ]
    }
   ],
   "source": [
    "## Model Define\n",
    "\n",
    "model = get_model(config)\n",
    "algo = DPN_Algo(config,model,train_loader,val_loader,test_loader)\n",
    "\n",
    "## Warm up\n",
    "summary(model, (4,3,16,16),device=\"cuda\")\n",
    "logging.info(f\"Model: {model.modules()[0]} , Params num: {sum([p.numel() for p in model.parameters()])}\")\n",
    "model.eval()\n",
    "n= 5\n",
    "input = new_train_data[0:n]\n",
    "print(input.shape)\n",
    "output = model( jt.Var(input)).reshape(-1,4,4)\n",
    "print(output.shape)\n",
    "output = sinkhorn(output)\n",
    "print(output.shape)\n",
    "target = jt.arange(0,4).repeat(n).reshape(n,4)\n",
    "print(target.shape)\n",
    "loss = jt.nn.cross_entropy_loss(output.reshape(-1,4),target.reshape(-1,1))\n",
    "print(loss.item())\n",
    "print(input.__class__)\n",
    "infer = algo.inference(input)\n",
    "print(infer.shape,infer)\n",
    "jt.display_memory_info()"
   ]
  },
  {
   "cell_type": "code",
   "execution_count": 6,
   "metadata": {},
   "outputs": [
    {
     "data": {
      "image/png": "[encoded data removed]",
      "text/plain": [
       "<Figure size 800x350 with 2 Axes>"
      ]
     },
     "metadata": {},
     "output_type": "display_data"
    },
    {
     "name": "stdout",
     "output_type": "stream",
     "text": [
      "Epoch 1: train_loss 3.180224, train_acc 0.041, dev_loss 3.178024, dev_acc 0.048, \n",
      "\t time 19.915 s/epoch, total time 39.829 s, time left 159.318 s\n"
     ]
    },
    {
     "ename": "KeyboardInterrupt",
     "evalue": "",
     "output_type": "error",
     "traceback": [
      "\u001b[0;31m---------------------------------------------------------------------------\u001b[0m",
      "\u001b[0;31mKeyboardInterrupt\u001b[0m                         Traceback (most recent call last)",
      "Cell \u001b[0;32mIn[6], line 2\u001b[0m\n\u001b[1;32m      1\u001b[0m \u001b[39m# Train\u001b[39;00m\n\u001b[0;32m----> 2\u001b[0m algo\u001b[39m.\u001b[39;49mtrain()\n",
      "File \u001b[0;32m/NAS2020/Datasets/DRLGroup/wjxie/DL_homework/Project/model.py:344\u001b[0m, in \u001b[0;36mDPN_Algo.train\u001b[0;34m(self, start_epoch)\u001b[0m\n\u001b[1;32m    341\u001b[0m logging\u001b[39m.\u001b[39minfo(output_info)\n\u001b[1;32m    343\u001b[0m \u001b[39mfor\u001b[39;00m epoch \u001b[39min\u001b[39;00m \u001b[39mrange\u001b[39m(start_epoch,\u001b[39mself\u001b[39m\u001b[39m.\u001b[39mconfig[\u001b[39m\"\u001b[39m\u001b[39mepoch\u001b[39m\u001b[39m\"\u001b[39m]):\n\u001b[0;32m--> 344\u001b[0m     train_loss, train_acc \u001b[39m=\u001b[39m \u001b[39mself\u001b[39;49m\u001b[39m.\u001b[39;49mtrain_epoch(epoch)\n\u001b[1;32m    345\u001b[0m     \u001b[39mself\u001b[39m\u001b[39m.\u001b[39mtrain_loss_list\u001b[39m.\u001b[39mappend(train_loss)\n\u001b[1;32m    346\u001b[0m     \u001b[39mself\u001b[39m\u001b[39m.\u001b[39mtrain_acc_list\u001b[39m.\u001b[39mappend(train_acc)\n",
      "File \u001b[0;32m/NAS2020/Datasets/DRLGroup/wjxie/DL_homework/Project/model.py:310\u001b[0m, in \u001b[0;36mDPN_Algo.train_epoch\u001b[0;34m(self, epoch)\u001b[0m\n\u001b[1;32m    308\u001b[0m output \u001b[39m=\u001b[39m relate(output) \u001b[39m#[N,24]\u001b[39;00m\n\u001b[1;32m    309\u001b[0m loss \u001b[39m=\u001b[39m \u001b[39mself\u001b[39m\u001b[39m.\u001b[39mcriterion(output,jt\u001b[39m.\u001b[39mVar(label)\u001b[39m.\u001b[39mreshape(\u001b[39m-\u001b[39m\u001b[39m1\u001b[39m,\u001b[39m1\u001b[39m))\n\u001b[0;32m--> 310\u001b[0m predict \u001b[39m=\u001b[39m \u001b[39mself\u001b[39;49m\u001b[39m.\u001b[39;49m_inference(output,relate_return_ind\u001b[39m=\u001b[39;49m\u001b[39mTrue\u001b[39;49;00m)          \u001b[39m## predict ,label are numpy array, int\u001b[39;00m\n\u001b[1;32m    311\u001b[0m acc \u001b[39m=\u001b[39m (predict \u001b[39m==\u001b[39m label)\u001b[39m.\u001b[39msum()\u001b[39m.\u001b[39mitem() \u001b[39m/\u001b[39m \u001b[39mlen\u001b[39m(label)\n\u001b[1;32m    313\u001b[0m \u001b[39mpass\u001b[39;00m\n",
      "File \u001b[0;32m/NAS2020/Datasets/DRLGroup/wjxie/DL_homework/Project/model.py:435\u001b[0m, in \u001b[0;36mDPN_Algo._inference\u001b[0;34m(self, Q, type, relate_return_ind)\u001b[0m\n\u001b[1;32m    432\u001b[0m         \u001b[39m# TODO: \u001b[39;00m\n\u001b[1;32m    433\u001b[0m \u001b[39melif\u001b[39;00m \u001b[39mself\u001b[39m\u001b[39m.\u001b[39mconfig[\u001b[39m\"\u001b[39m\u001b[39mmethod\u001b[39m\u001b[39m\"\u001b[39m]\u001b[39m==\u001b[39m\u001b[39m\"\u001b[39m\u001b[39mrelate\u001b[39m\u001b[39m\"\u001b[39m:\n\u001b[1;32m    434\u001b[0m     \u001b[39m## Q:[N,24]\u001b[39;00m\n\u001b[0;32m--> 435\u001b[0m     ress \u001b[39m=\u001b[39m np\u001b[39m.\u001b[39margmax(Q\u001b[39m.\u001b[39;49mnumpy(),axis\u001b[39m=\u001b[39m\u001b[39m1\u001b[39m) \u001b[39m#[N,],np\u001b[39;00m\n\u001b[1;32m    436\u001b[0m     \u001b[39mif\u001b[39;00m \u001b[39mnot\u001b[39;00m relate_return_ind:\n\u001b[1;32m    437\u001b[0m         ress \u001b[39m=\u001b[39m PERM_ARRAY[ress]\n",
      "\u001b[0;31mKeyboardInterrupt\u001b[0m: "
     ]
    }
   ],
   "source": [
    "# Train\n",
    "algo.train()"
   ]
  },
  {
   "cell_type": "code",
   "execution_count": null,
   "metadata": {},
   "outputs": [],
   "source": [
    "## 这个是用来阻塞进程流的, 该部分以上是训练代码, 该部分以下是测试代码.\n",
    "raise NotImplementedError"
   ]
  },
  {
   "cell_type": "code",
   "execution_count": null,
   "metadata": {},
   "outputs": [],
   "source": [
    "print(algo.best_acc)"
   ]
  },
  {
   "cell_type": "code",
   "execution_count": null,
   "metadata": {},
   "outputs": [],
   "source": [
    "N = 10\n",
    "for batch_idx, (data) in enumerate(algo.train_dataloader):\n",
    "            # data  : [N,4,3,16,16]\n",
    "    data = data[0]\n",
    "    X_tilde, label = shuffle_permutation(data,algo.config)\n",
    "    output = algo.model(X_tilde).reshape(-1,4,4)   # [N,4,4]\n",
    "\n",
    "    if algo.config[\"method\"]==\"classic\":\n",
    "        if algo.config[\"enable_sinkhorn\"]:\n",
    "            output = sinkhorn(output)              \n",
    "        loss = algo.criterion(output.reshape(-1,4),jt.Var(label).reshape(-1,1))\n",
    "        predict = algo._inference(output)          ## predict ,label are numpy array, int\n",
    "        acc = (np.all(predict == label,axis=1)).sum().item() / len(label)\n",
    "    elif algo.config[\"method\"]==\"relate\":\n",
    "        output = relate(output) #[N,24]\n",
    "        loss = algo.criterion(output,jt.Var(label).reshape(-1,1))\n",
    "        predict = algo._inference(output,relate_return_ind=True)          ## predict ,label are numpy array, int\n",
    "        acc = (predict == label).sum().item() / len(label)\n",
    "\n",
    "    algo.optimizer.step(loss)\n",
    "    algo.optimizer.zero_grad()\n",
    "    print(batch_idx,loss,acc)\n",
    "    N -=1\n",
    "    if N==0:\n",
    "        break"
   ]
  },
  {
   "cell_type": "code",
   "execution_count": null,
   "metadata": {},
   "outputs": [],
   "source": [
    "print(jt.sum(algo.optimizer.param_groups[0][\"grads\"][0]**2) )"
   ]
  },
  {
   "cell_type": "code",
   "execution_count": null,
   "metadata": {},
   "outputs": [],
   "source": [
    "def test_model(algo):\n",
    "    def de_transform(data):\n",
    "        # data = data+0.5\n",
    "        # data = data*255\n",
    "        # jt.sync_all()\n",
    "        return data.numpy().astype(np.uint8)\n",
    "\n",
    "    ind = np.random.randint(0,new_val_data.shape[0])\n",
    "    new_data,labels = shuffle_permutation(new_val_data[ind][None],config)\n",
    "    pred = algo.inference(new_data)\n",
    "        # pred = algo.inference(new_data,relate_return_ind=True)\n",
    "    # if old_train_data is not None:\n",
    "\n",
    "    #     plt.imshow( de_transform(old_train_data[ind]).transpose(1,2,0))\n",
    "    #     plt.show()\n",
    "\n",
    "    for i in range(4):\n",
    "        plt.subplot(2,2,i+1,label=f\"pos {i}\")\n",
    "        plt.gca().set_title(f\"pos {i}\")\n",
    "        # plt.legend()\n",
    "        plt.imshow(de_transform(new_data[0][i]).transpose(1,2,0))\n",
    "    print(\"True label: \",labels[0])\n",
    "    if config[\"method\"]==\"relate\":\n",
    "        print(\"Label: \",PERMUTATIONS[labels[0]] )\n",
    "    print(\"Predict:    \",pred[0])\n",
    "    print(\"Model Output: \",algo.model(new_data).reshape(-1,4,4)[0])\n",
    "    if config[\"enable_sinkhorn\"]:\n",
    "        print(\"Sinkhorn Output: \", sinkhorn(algo.model(new_data).reshape(-1,4,4))[0])\n",
    "        print(\"Loss: \", algo.criterion(sinkhorn(algo.model(new_data).reshape(-1,4,4)),jt.Var(labels)))\n",
    "\n",
    "test_model(algo)"
   ]
  },
  {
   "attachments": {},
   "cell_type": "markdown",
   "metadata": {},
   "source": [
    "\n",
    "651718_epoch49: 是baseline, 按照标准做法训练的模型, jittor_cel, no sinkhorn, acc 0.865108 \n",
    "\n",
    "652728_epoch44: jittor_cel, sinkhorn, acc 0.725264\n",
    "\n",
    "659722_epoch42: relate方法, no sinkhorn, acc 0.909197"
   ]
  },
  {
   "cell_type": "code",
   "execution_count": null,
   "metadata": {},
   "outputs": [],
   "source": [
    "# algo.continue_train(2,config[\"save_dir\"]+\"/651718_epoch49\")\n",
    "algo.load(config[\"save_dir\"]+\"/675216_epoch6\")"
   ]
  },
  {
   "cell_type": "code",
   "execution_count": null,
   "metadata": {},
   "outputs": [],
   "source": [
    "algo.test()"
   ]
  }
 ],
 "metadata": {
  "kernelspec": {
   "display_name": "jittor",
   "language": "python",
   "name": "python3"
  },
  "language_info": {
   "codemirror_mode": {
    "name": "ipython",
    "version": 3
   },
   "file_extension": ".py",
   "mimetype": "text/x-python",
   "name": "python",
   "nbconvert_exporter": "python",
   "pygments_lexer": "ipython3",
   "version": "3.8.16"
  },
  "orig_nbformat": 4,
  "vscode": {
   "interpreter": {
    "hash": "cbb19862eb77684089cc5cc2e527ffc1e5e76bacc5741479136c873c2e13945f"
   }
  }
 },
 "nbformat": 4,
 "nbformat_minor": 2
}
